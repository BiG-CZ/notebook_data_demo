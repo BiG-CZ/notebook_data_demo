{
 "cells": [
  {
   "cell_type": "markdown",
   "metadata": {},
   "source": [
    "# odm2api demo with Little Bear SQLite sample DB\n",
    "Largely from https://github.com/ODM2/ODM2PythonAPI/blob/master/Examples/Sample.py   \n",
    "- 4/25/2016. Started testing with the new `odm2` conda channel, based on the new `0.5.0-alpha` odm2api release. See my `odm2api_odm2channel` env. Ran into problems b/c the SQLite database needed to be updated to have a `SamplingFeature.FeatureGeometryWKT` field; so I added and populated it manually with `SQLite Manager`.\n",
    "- 2/7/2016. Tested successfully with `sfgeometry_em_1` branch, with my overhauls. Using `odm2api_dev` env.\n",
    "- 2/1 - 1/31. Errors with SamplingFeatures code, with latest odm2api from master (on env `odm2api_jan31test`). *The code also fails the same way with the `odm2api` env, but it does still run fine with the `odm2api_jan21` env! I'm investigating the differences between those two envs.*\n",
    "- 1/22-20,9/2016.\n",
    "\n",
    "Author: Emilio Mayorga"
   ]
  },
  {
   "cell_type": "markdown",
   "metadata": {},
   "source": [
    "### Create a connection to the ODM2 database"
   ]
  },
  {
   "cell_type": "code",
   "execution_count": 1,
   "metadata": {
    "scrolled": true
   },
   "outputs": [],
   "source": [
    "import os\n",
    "from odm2api.ODMconnection import dbconnection\n",
    "\n",
    "\n",
    "odm2db_fpth = os.path.join('data', 'ODM2.sqlite')\n",
    "session_factory = dbconnection.createConnection('sqlite', odm2db_fpth, 2.0)"
   ]
  },
  {
   "cell_type": "markdown",
   "metadata": {},
   "source": [
    "### Read the database"
   ]
  },
  {
   "cell_type": "code",
   "execution_count": 2,
   "metadata": {
    "collapsed": true
   },
   "outputs": [],
   "source": [
    "from odm2api.ODM2.services.readService import ReadODM2\n",
    "\n",
    "\n",
    "read = ReadODM2(session_factory)"
   ]
  },
  {
   "cell_type": "markdown",
   "metadata": {},
   "source": [
    "### Run some basic sample queries"
   ]
  },
  {
   "cell_type": "code",
   "execution_count": 3,
   "metadata": {},
   "outputs": [
    {
     "name": "stdout",
     "output_type": "stream",
     "text": [
      "USU36: Temperature\n"
     ]
    }
   ],
   "source": [
    "allVars = read.getVariables()\n",
    "\n",
    "for x in allVars:\n",
    "    print(\"{}: {}\".format(x.VariableCode, x.VariableNameCV))"
   ]
  },
  {
   "cell_type": "markdown",
   "metadata": {},
   "source": [
    "### Read some metadata from the database: people and affiliation"
   ]
  },
  {
   "cell_type": "code",
   "execution_count": 4,
   "metadata": {},
   "outputs": [
    {
     "name": "stdout",
     "output_type": "stream",
     "text": [
      "Jeff Horsburgh\n",
      "Jeff: 1\n"
     ]
    }
   ],
   "source": [
    "allPeople = read.getPeople()\n",
    "\n",
    "if allPeople:\n",
    "    for x in allPeople:\n",
    "        print(\"{} {}\".format(x.PersonFirstName, x.PersonLastName))\n",
    "        \n",
    "allaff = read.getAffiliations()\n",
    "\n",
    "if allaff:\n",
    "    for x in allaff:\n",
    "        print(\"{}: {}\".format(x.PersonObj.PersonFirstName, x.OrganizationID))"
   ]
  },
  {
   "cell_type": "markdown",
   "metadata": {},
   "source": [
    "## SamplingFeatures tests"
   ]
  },
  {
   "cell_type": "markdown",
   "metadata": {},
   "source": [
    "### Get all of the SamplingFeatures from the database that are Sites"
   ]
  },
  {
   "cell_type": "code",
   "execution_count": 5,
   "metadata": {},
   "outputs": [
    {
     "name": "stdout",
     "output_type": "stream",
     "text": [
      "USU-LBR-Mendon: Little Bear River at Mendon Road near Mendon, Utah\n"
     ]
    }
   ],
   "source": [
    "try:\n",
    "    siteFeatures = read.getSamplingFeatures(type='Site')\n",
    "    numSites = len(siteFeatures)\n",
    "    for x in siteFeatures:\n",
    "        print x.SamplingFeatureCode + \": \" + x.SamplingFeatureName\n",
    "except Exception as e:\n",
    "    print(\"Unable to demo getSamplingFeatures(type='Site')\\n{}\".format(e))"
   ]
  },
  {
   "cell_type": "code",
   "execution_count": 6,
   "metadata": {},
   "outputs": [
    {
     "data": {
      "text/plain": [
       "[<Sites({'SamplingFeatureDescription': None, '_sa_instance_state': <sqlalchemy.orm.state.InstanceState object at 0x7fd7d70afd90>, 'SamplingFeatureGeotypeCV': u'Point', 'SamplingFeatureName': u'Little Bear River at Mendon Road near Mendon, Utah', 'SamplingFeatureUUID': u'938e328c-0e38-11e6-819c-f45c8999816f', 'Elevation_m': 1345.0, 'ElevationDatumCV': u'NGVD29', 'SamplingFeatureTypeCV': u'Site', 'SamplingFeatureCode': u'USU-LBR-Mendon', 'SamplingFeatureID': 1, 'FeatureGeometryWKT': u'POINT (-111.946402 41.718473)'})>]"
      ]
     },
     "execution_count": 6,
     "metadata": {},
     "output_type": "execute_result"
    }
   ],
   "source": [
    "read.getSamplingFeatures()"
   ]
  },
  {
   "cell_type": "code",
   "execution_count": 7,
   "metadata": {},
   "outputs": [
    {
     "data": {
      "text/plain": [
       "[<Sites({'SamplingFeatureDescription': None, '_sa_instance_state': <sqlalchemy.orm.state.InstanceState object at 0x7fd7d70afd90>, 'SamplingFeatureGeotypeCV': u'Point', 'SamplingFeatureName': u'Little Bear River at Mendon Road near Mendon, Utah', 'SamplingFeatureUUID': u'938e328c-0e38-11e6-819c-f45c8999816f', 'Elevation_m': 1345.0, 'ElevationDatumCV': u'NGVD29', 'SamplingFeatureTypeCV': u'Site', 'SamplingFeatureCode': u'USU-LBR-Mendon', 'SamplingFeatureID': 1, 'FeatureGeometryWKT': u'POINT (-111.946402 41.718473)'})>]"
      ]
     },
     "execution_count": 7,
     "metadata": {},
     "output_type": "execute_result"
    }
   ],
   "source": [
    "read.getSamplingFeatures(codes=['USU-LBR-Mendon'])"
   ]
  },
  {
   "cell_type": "markdown",
   "metadata": {},
   "source": [
    "### Now get the SamplingFeature object for a SamplingFeature code"
   ]
  },
  {
   "cell_type": "code",
   "execution_count": 8,
   "metadata": {},
   "outputs": [
    {
     "data": {
      "text/plain": [
       "{'ElevationDatumCV': u'NGVD29',\n",
       " 'Elevation_m': 1345.0,\n",
       " 'FeatureGeometryWKT': u'POINT (-111.946402 41.718473)',\n",
       " 'SamplingFeatureCode': u'USU-LBR-Mendon',\n",
       " 'SamplingFeatureDescription': None,\n",
       " 'SamplingFeatureGeotypeCV': u'Point',\n",
       " 'SamplingFeatureID': 1,\n",
       " 'SamplingFeatureName': u'Little Bear River at Mendon Road near Mendon, Utah',\n",
       " 'SamplingFeatureTypeCV': u'Site',\n",
       " 'SamplingFeatureUUID': u'938e328c-0e38-11e6-819c-f45c8999816f',\n",
       " '_sa_instance_state': <sqlalchemy.orm.state.InstanceState at 0x7fd7d70afd90>}"
      ]
     },
     "execution_count": 8,
     "metadata": {},
     "output_type": "execute_result"
    }
   ],
   "source": [
    "sf_lst = read.getSamplingFeatures(codes=['USU-LBR-Mendon'])\n",
    "\n",
    "vars(sf_lst[0])"
   ]
  },
  {
   "cell_type": "code",
   "execution_count": 9,
   "metadata": {},
   "outputs": [
    {
     "data": {
      "text/plain": [
       "<Sites({'SamplingFeatureDescription': None, '_sa_instance_state': <sqlalchemy.orm.state.InstanceState object at 0x7fd7d70afd90>, 'SamplingFeatureGeotypeCV': u'Point', 'SamplingFeatureName': u'Little Bear River at Mendon Road near Mendon, Utah', 'SamplingFeatureUUID': u'938e328c-0e38-11e6-819c-f45c8999816f', 'Elevation_m': 1345.0, 'ElevationDatumCV': u'NGVD29', 'SamplingFeatureTypeCV': u'Site', 'SamplingFeatureCode': u'USU-LBR-Mendon', 'SamplingFeatureID': 1, 'FeatureGeometryWKT': u'POINT (-111.946402 41.718473)'})>"
      ]
     },
     "execution_count": 9,
     "metadata": {},
     "output_type": "execute_result"
    }
   ],
   "source": [
    "sf = sf_lst[0]\n",
    "\n",
    "sf"
   ]
  },
  {
   "cell_type": "code",
   "execution_count": 10,
   "metadata": {},
   "outputs": [
    {
     "name": "stdout",
     "output_type": "stream",
     "text": [
      "<class 'odm2api.ODM2.models.Sites'>\n",
      "(<type 'unicode'>, u'POINT (-111.946402 41.718473)')\n"
     ]
    }
   ],
   "source": [
    "print(type(sf))\n",
    "\n",
    "print(type(sf.FeatureGeometryWKT), sf.FeatureGeometryWKT)"
   ]
  },
  {
   "cell_type": "code",
   "execution_count": 11,
   "metadata": {
    "collapsed": true
   },
   "outputs": [],
   "source": [
    "table = \"\"\"\n",
    "<!DOCTYPE html>\n",
    "<html>\n",
    "<head>\n",
    "<style>\n",
    "table {{\n",
    "    width:100%;\n",
    "}}\n",
    "table, th, td {{\n",
    "    border: 1px solid black;\n",
    "    border-collapse: collapse;\n",
    "}}\n",
    "th, td {{\n",
    "    padding: 5px;\n",
    "    text-align: left;\n",
    "}}\n",
    "table#t01 tr:nth-child(odd) {{\n",
    "    background-color: #eee;\n",
    "}}\n",
    "table#t01 tr:nth-child(even) {{\n",
    "   background-color:#fff;\n",
    "}}\n",
    "</style>\n",
    "</head>\n",
    "<body>\n",
    "\n",
    "<table id=\"t01\">\n",
    "  <tr>\n",
    "    <td>Code</td>\n",
    "    <td>{}</td>\n",
    "  </tr>\n",
    "  <tr>\n",
    "    <td>TypeCV</td>\n",
    "    <td>{}</td>\n",
    "  </tr>\n",
    "  <tr>\n",
    "    <td>Name</td>\n",
    "    <td>{}</td>\n",
    "  </tr>\n",
    "</table>\n",
    "</body>\n",
    "</html>\n",
    "\"\"\".format"
   ]
  },
  {
   "cell_type": "code",
   "execution_count": 12,
   "metadata": {},
   "outputs": [
    {
     "data": {
      "text/html": [
       "<div style=\"width:100%;\"><div style=\"position:relative;width:100%;height:0;padding-bottom:60%;\"><iframe src=\"data:text/html;charset=utf-8;base64,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\" style=\"position:absolute;width:100%;height:100%;left:0;top:0;border:none !important;\" allowfullscreen webkitallowfullscreen mozallowfullscreen></iframe></div></div>"
      ],
      "text/plain": [
       "<folium.folium.Map at 0x7fd7d70cdf10>"
      ]
     },
     "execution_count": 12,
     "metadata": {},
     "output_type": "execute_result"
    }
   ],
   "source": [
    "import folium\n",
    "\n",
    "lon, lat = sf.Longitude, sf.Latitude\n",
    "\n",
    "m = folium.Map(location=[lat, lon], zoom_start=16)\n",
    "\n",
    "icon = folium.Icon(color='orange', icon='info-sign', prefix='glyphicon')\n",
    "\n",
    "width, height = 310, 130\n",
    "html = table(sf.SamplingFeatureCode, sf.SamplingFeatureTypeCV, sf.SamplingFeatureName)\n",
    "iframe = folium.IFrame(html, width=width, height=height)\n",
    "popup = folium.Popup(iframe)\n",
    "\n",
    "folium.Marker(location=[lat, lon], icon=icon, popup=popup).add_to(m)\n",
    "\n",
    "m"
   ]
  },
  {
   "cell_type": "markdown",
   "metadata": {},
   "source": [
    "## Back to the rest of the demo"
   ]
  },
  {
   "cell_type": "code",
   "execution_count": 13,
   "metadata": {},
   "outputs": [
    {
     "data": {
      "text/plain": [
       "[<TimeSeriesResults({'ResultUUID': u'938fec1c-0e38-11e6-98c2-f45c8999816f', 'ValidDateTimeUTCOffset': None, '_sa_instance_state': <sqlalchemy.orm.state.InstanceState object at 0x7fd7d6cdf090>, 'VariableID': 1, 'ProcessingLevelID': 1, 'StatusCV': u'Unknown', 'ValueCount': 24206, 'ValidDateTime': None, 'UnitsID': 96, 'FeatureActionID': 1, 'ResultDateTimeUTCOffset': -7, 'TaxonomicClassifierID': None, 'ResultTypeCV': u'Time series coverage', 'SampledMediumCV': u'Surface Water', 'ResultDateTime': datetime.datetime(2016, 4, 29, 12, 31, 23, 801947), 'ResultID': 1})>]"
      ]
     },
     "execution_count": 13,
     "metadata": {},
     "output_type": "execute_result"
    }
   ],
   "source": [
    "read.getResults()"
   ]
  },
  {
   "cell_type": "code",
   "execution_count": 14,
   "metadata": {},
   "outputs": [
    {
     "data": {
      "text/plain": [
       "<Actions({'_sa_instance_state': <sqlalchemy.orm.state.InstanceState object at 0x7fd7d6cf0850>, 'MethodID': 1, 'ActionDescription': u'An observation action that generated a time series result.', 'ActionFileLink': None, 'EndDateTime': datetime.datetime(2009, 1, 16, 12, 30), 'BeginDateTime': datetime.datetime(2007, 8, 16, 16, 30), 'EndDateTimeUTCOffset': -7, 'ActionTypeCV': u'Observation', 'ActionID': 1, 'BeginDateTimeUTCOffset': -7})>"
      ]
     },
     "execution_count": 14,
     "metadata": {},
     "output_type": "execute_result"
    }
   ],
   "source": [
    "firstResult = read.getResults()[0]\n",
    "firstResult.FeatureActionObj.ActionObj"
   ]
  },
  {
   "cell_type": "markdown",
   "metadata": {},
   "source": [
    "### Foreign Key Example\n",
    "\n",
    "Drill down and get objects linked by foreign keys"
   ]
  },
  {
   "cell_type": "code",
   "execution_count": 15,
   "metadata": {},
   "outputs": [
    {
     "name": "stdout",
     "output_type": "stream",
     "text": [
      "The FeatureAction object for the Result is: <FeatureActions({'FeatureActionID': 1, 'SamplingFeatureID': 1, '_sa_instance_state': <sqlalchemy.orm.state.InstanceState object at 0x7fd7d6cdf6d0>, 'ActionID': 1})>\n",
      "The Action object for the Result is: <Actions({'_sa_instance_state': <sqlalchemy.orm.state.InstanceState object at 0x7fd7d6cf0850>, 'MethodID': 1, 'ActionDescription': u'An observation action that generated a time series result.', 'ActionFileLink': None, 'EndDateTime': datetime.datetime(2009, 1, 16, 12, 30), 'BeginDateTime': datetime.datetime(2007, 8, 16, 16, 30), 'EndDateTimeUTCOffset': -7, 'ActionTypeCV': u'Observation', 'ActionID': 1, 'BeginDateTimeUTCOffset': -7})>\n",
      "\n",
      "The following are some of the attributes for the Action that created the Result: \n",
      "ActionTypeCV: Observation\n",
      "ActionDescription: An observation action that generated a time series result.\n",
      "BeginDateTime: 2007-08-16 16:30:00\n",
      "EndDateTime: 2009-01-16 12:30:00\n",
      "MethodName: Quality Control Level 1 Data Series created from raw QC Level 0 data using ODM Tools.\n",
      "MethodDescription: Quality Control Level 1 Data Series created from raw QC Level 0 data using ODM Tools.\n"
     ]
    }
   ],
   "source": [
    "try:\n",
    "    # Call getResults, but return only the first result.\n",
    "    firstResult = read.getResults()[0]\n",
    "    action_firstResult = firstResult.FeatureActionObj.ActionObj\n",
    "    print(\"The FeatureAction object for the Result is: {}\".format(firstResult.FeatureActionObj))\n",
    "    print(\"The Action object for the Result is: {}\".format(action_firstResult))\n",
    "    print(\"\\nThe following are some of the attributes for the Action that created the Result: \\n\" +\n",
    "          \"ActionTypeCV: \" + action_firstResult.ActionTypeCV + \"\\n\" +\n",
    "          \"ActionDescription: \" + action_firstResult.ActionDescription + \"\\n\" +\n",
    "          \"BeginDateTime: \" + str(action_firstResult.BeginDateTime) + \"\\n\" +\n",
    "          \"EndDateTime: \" + str(action_firstResult.EndDateTime) + \"\\n\" +\n",
    "          \"MethodName: \" + action_firstResult.MethodObj.MethodName + \"\\n\" +\n",
    "          \"MethodDescription: \" + action_firstResult.MethodObj.MethodDescription)\n",
    "except Exception as e:\n",
    "    print(\"Unable to demo Foreign Key Example: {}\".format(e))"
   ]
  },
  {
   "cell_type": "markdown",
   "metadata": {},
   "source": [
    "### Example of Retrieving Attributes of a Time Series Result using a ResultID"
   ]
  },
  {
   "cell_type": "code",
   "execution_count": 16,
   "metadata": {},
   "outputs": [
    {
     "data": {
      "text/plain": [
       "(odm2api.ODM2.models.TimeSeriesResults,\n",
       " {'FeatureActionID': 1,\n",
       "  'FeatureActionObj': <FeatureActions({'FeatureActionID': 1, 'SamplingFeatureID': 1, '_sa_instance_state': <sqlalchemy.orm.state.InstanceState object at 0x7fd7d6cdf6d0>, 'ActionID': 1})>,\n",
       "  'ProcessingLevelID': 1,\n",
       "  'ResultDateTime': datetime.datetime(2016, 4, 29, 12, 31, 23, 801947),\n",
       "  'ResultDateTimeUTCOffset': -7,\n",
       "  'ResultID': 1,\n",
       "  'ResultTypeCV': u'Time series coverage',\n",
       "  'ResultUUID': u'938fec1c-0e38-11e6-98c2-f45c8999816f',\n",
       "  'SampledMediumCV': u'Surface Water',\n",
       "  'StatusCV': u'Unknown',\n",
       "  'TaxonomicClassifierID': None,\n",
       "  'UnitsID': 96,\n",
       "  'ValidDateTime': None,\n",
       "  'ValidDateTimeUTCOffset': None,\n",
       "  'ValueCount': 24206,\n",
       "  'VariableID': 1,\n",
       "  '_sa_instance_state': <sqlalchemy.orm.state.InstanceState at 0x7fd7d6cdf090>})"
      ]
     },
     "execution_count": 16,
     "metadata": {},
     "output_type": "execute_result"
    }
   ],
   "source": [
    "tsResult = read.getResults(ids=[1])[0]\n",
    "\n",
    "type(tsResult), vars(tsResult)"
   ]
  },
  {
   "cell_type": "markdown",
   "metadata": {},
   "source": [
    "**Why are `ProcessingLevelObj`, `VariableObj` and `UnitsObj` objects not shown in the above `vars()` listing!?** They **are** actually available, as demonstrated in much of the code below."
   ]
  },
  {
   "cell_type": "code",
   "execution_count": 17,
   "metadata": {},
   "outputs": [
    {
     "name": "stdout",
     "output_type": "stream",
     "text": [
      "Some of the attributes for the TimeSeriesResult retrieved using getResults(ids=[]): \n",
      "ResultTypeCV: Time series coverage\n",
      "ProcessingLevel: Quality controlled data\n",
      "SampledMedium: Surface Water\n",
      "Variable: USU36: Temperature\n",
      "AggregationStatistic: Average\n",
      "Elevation_m: 1345.0\n",
      "SamplingFeature: USU-LBR-Mendon - Little Bear River at Mendon Road near Mendon, Utah\n"
     ]
    }
   ],
   "source": [
    "try:\n",
    "    tsResult = read.getResults(ids=[1])[0]\n",
    "    # Get the site information by drilling down.\n",
    "    sf_tsResult = tsResult.FeatureActionObj.SamplingFeatureObj\n",
    "    print('Some of the attributes for the TimeSeriesResult retrieved using getResults(ids=[]): \\n' +\n",
    "          'ResultTypeCV: ' + tsResult.ResultTypeCV + '\\n' +\n",
    "          # Get the ProcessingLevel from the TimeSeriesResult's ProcessingLevel object.\n",
    "          'ProcessingLevel: ' + tsResult.ProcessingLevelObj.Definition + '\\n' +\n",
    "          'SampledMedium: ' + tsResult.SampledMediumCV + '\\n' +\n",
    "          # Get the variable information from the TimeSeriesResult's Variable object.\n",
    "          'Variable: ' + tsResult.VariableObj.VariableCode + ': ' + tsResult.VariableObj.VariableNameCV + '\\n' +\n",
    "          'AggregationStatistic: ' + tsResult.AggregationStatisticCV + '\\n' +\n",
    "          # Get the site information by drilling down.\n",
    "          'Elevation_m: ' + str(sf_tsResult.Elevation_m) + '\\n' +\n",
    "          'SamplingFeature: ' + sf_tsResult.SamplingFeatureCode + ' - ' +\n",
    "          sf_tsResult.SamplingFeatureName)\n",
    "except Exception as e:\n",
    "    print('Unable to demo Example of retrieving Attributes of a time Series Result: {}'.format(e))"
   ]
  },
  {
   "cell_type": "markdown",
   "metadata": {},
   "source": [
    "### Example of Retrieving Time Series Result Values, then plotting them"
   ]
  },
  {
   "cell_type": "code",
   "execution_count": 18,
   "metadata": {},
   "outputs": [
    {
     "data": {
      "text/html": [
       "<div>\n",
       "<style>\n",
       "    .dataframe thead tr:only-child th {\n",
       "        text-align: right;\n",
       "    }\n",
       "\n",
       "    .dataframe thead th {\n",
       "        text-align: left;\n",
       "    }\n",
       "\n",
       "    .dataframe tbody tr th {\n",
       "        vertical-align: top;\n",
       "    }\n",
       "</style>\n",
       "<table border=\"1\" class=\"dataframe\">\n",
       "  <thead>\n",
       "    <tr style=\"text-align: right;\">\n",
       "      <th></th>\n",
       "      <th>valueid</th>\n",
       "      <th>resultid</th>\n",
       "      <th>datavalue</th>\n",
       "      <th>valuedatetimeutcoffset</th>\n",
       "      <th>censorcodecv</th>\n",
       "      <th>qualitycodecv</th>\n",
       "      <th>timeaggregationinterval</th>\n",
       "      <th>timeaggregationintervalunitsid</th>\n",
       "    </tr>\n",
       "    <tr>\n",
       "      <th>valuedatetime</th>\n",
       "      <th></th>\n",
       "      <th></th>\n",
       "      <th></th>\n",
       "      <th></th>\n",
       "      <th></th>\n",
       "      <th></th>\n",
       "      <th></th>\n",
       "      <th></th>\n",
       "    </tr>\n",
       "  </thead>\n",
       "  <tbody>\n",
       "    <tr>\n",
       "      <th>2009-01-04 18:00:00</th>\n",
       "      <td>23641</td>\n",
       "      <td>1</td>\n",
       "      <td>-0.268333</td>\n",
       "      <td>-7</td>\n",
       "      <td>nc</td>\n",
       "      <td>Unknown</td>\n",
       "      <td>30.0</td>\n",
       "      <td>102</td>\n",
       "    </tr>\n",
       "    <tr>\n",
       "      <th>2009-01-04 06:00:00</th>\n",
       "      <td>23617</td>\n",
       "      <td>1</td>\n",
       "      <td>-0.266667</td>\n",
       "      <td>-7</td>\n",
       "      <td>nc</td>\n",
       "      <td>Unknown</td>\n",
       "      <td>30.0</td>\n",
       "      <td>102</td>\n",
       "    </tr>\n",
       "    <tr>\n",
       "      <th>2008-12-18 01:00:00</th>\n",
       "      <td>22922</td>\n",
       "      <td>1</td>\n",
       "      <td>-0.263333</td>\n",
       "      <td>-7</td>\n",
       "      <td>nc</td>\n",
       "      <td>Unknown</td>\n",
       "      <td>30.0</td>\n",
       "      <td>102</td>\n",
       "    </tr>\n",
       "    <tr>\n",
       "      <th>2009-01-04 05:30:00</th>\n",
       "      <td>23616</td>\n",
       "      <td>1</td>\n",
       "      <td>-0.263333</td>\n",
       "      <td>-7</td>\n",
       "      <td>nc</td>\n",
       "      <td>Unknown</td>\n",
       "      <td>30.0</td>\n",
       "      <td>102</td>\n",
       "    </tr>\n",
       "    <tr>\n",
       "      <th>2009-01-04 06:30:00</th>\n",
       "      <td>23618</td>\n",
       "      <td>1</td>\n",
       "      <td>-0.263333</td>\n",
       "      <td>-7</td>\n",
       "      <td>nc</td>\n",
       "      <td>Unknown</td>\n",
       "      <td>30.0</td>\n",
       "      <td>102</td>\n",
       "    </tr>\n",
       "  </tbody>\n",
       "</table>\n",
       "</div>"
      ],
      "text/plain": [
       "                     valueid  resultid  datavalue  valuedatetimeutcoffset  \\\n",
       "valuedatetime                                                               \n",
       "2009-01-04 18:00:00    23641         1  -0.268333                      -7   \n",
       "2009-01-04 06:00:00    23617         1  -0.266667                      -7   \n",
       "2008-12-18 01:00:00    22922         1  -0.263333                      -7   \n",
       "2009-01-04 05:30:00    23616         1  -0.263333                      -7   \n",
       "2009-01-04 06:30:00    23618         1  -0.263333                      -7   \n",
       "\n",
       "                    censorcodecv qualitycodecv  timeaggregationinterval  \\\n",
       "valuedatetime                                                             \n",
       "2009-01-04 18:00:00           nc       Unknown                     30.0   \n",
       "2009-01-04 06:00:00           nc       Unknown                     30.0   \n",
       "2008-12-18 01:00:00           nc       Unknown                     30.0   \n",
       "2009-01-04 05:30:00           nc       Unknown                     30.0   \n",
       "2009-01-04 06:30:00           nc       Unknown                     30.0   \n",
       "\n",
       "                     timeaggregationintervalunitsid  \n",
       "valuedatetime                                        \n",
       "2009-01-04 18:00:00                             102  \n",
       "2009-01-04 06:00:00                             102  \n",
       "2008-12-18 01:00:00                             102  \n",
       "2009-01-04 05:30:00                             102  \n",
       "2009-01-04 06:30:00                             102  "
      ]
     },
     "execution_count": 18,
     "metadata": {},
     "output_type": "execute_result"
    }
   ],
   "source": [
    "tsValues = read.getResultValues(resultids=[1])  # Get the values for a particular TimeSeriesResult.\n",
    "\n",
    "tsValues.set_index('valuedatetime', inplace=True)\n",
    "\n",
    "tsValues.head()  # Return type is a pandas dataframe."
   ]
  },
  {
   "cell_type": "code",
   "execution_count": 19,
   "metadata": {
    "scrolled": true
   },
   "outputs": [
    {
     "data": {
      "image/png": "[encoded data removed]",
      "text/plain": [
       "<matplotlib.figure.Figure at 0x7fd7d5c82050>"
      ]
     },
     "metadata": {},
     "output_type": "display_data"
    }
   ],
   "source": [
    "%matplotlib inline\n",
    "import matplotlib.pyplot as plt\n",
    "from matplotlib import dates\n",
    "\n",
    "fig, ax = plt.subplots(figsize=(11, 2.25))\n",
    "tsValues['datavalue'].plot(ax=ax)\n",
    "\n",
    "ax.set_ylabel('{} ({})'.format(\n",
    "    tsResult.VariableObj.VariableNameCV,\n",
    "    tsResult.UnitsObj.UnitsAbbreviation))\n",
    "ax.set_xlabel('')\n",
    "ax.xaxis.set_minor_locator(dates.MonthLocator())\n",
    "ax.xaxis.set_minor_formatter(dates.DateFormatter('%b'))\n",
    "ax.xaxis.set_major_locator(dates.YearLocator())\n",
    "ax.xaxis.set_major_formatter(dates.DateFormatter('\\n%Y'))\n",
    "ax.grid(which='major', axis='y')\n",
    "ax.grid(which='minor', axis='x')"
   ]
  }
 ],
 "metadata": {
  "kernelspec": {
   "display_name": "Python [default]",
   "language": "python",
   "name": "python2"
  },
  "language_info": {
   "codemirror_mode": {
    "name": "ipython",
    "version": 2
   },
   "file_extension": ".py",
   "mimetype": "text/x-python",
   "name": "python",
   "nbconvert_exporter": "python",
   "pygments_lexer": "ipython2",
   "version": "2.7.13"
  }
 },
 "nbformat": 4,
 "nbformat_minor": 1
}
