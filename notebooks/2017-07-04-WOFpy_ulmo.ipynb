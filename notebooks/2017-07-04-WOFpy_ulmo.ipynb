{
 "cells": [
  {
   "cell_type": "markdown",
   "metadata": {},
   "source": [
    "# Testing WOFpy LBR sample DB\n",
    "Emilio Mayorga. Run on my conda environment `uwapl_em_mc_1aui`.  \n",
    "3/5,4/2017. Test Don's Amazon cloud deployment"
   ]
  },
  {
   "cell_type": "code",
   "execution_count": 1,
   "metadata": {},
   "outputs": [
    {
     "name": "stderr",
     "output_type": "stream",
     "text": [
      "/home/filipe/miniconda3/envs/BiG-CZ/lib/python2.7/site-packages/ulmo/twc/kbdi/core.py:20: FutureWarning: pandas.tslib is deprecated and will be removed in a future version.\n",
      "You can access Timestamp as pandas.Timestamp\n",
      "  CSV_SWITCHOVER = pandas.tslib.Timestamp('2016-10-01')\n"
     ]
    }
   ],
   "source": [
    "%matplotlib inline\n",
    "\n",
    "import pytz\n",
    "import matplotlib.pyplot as plt\n",
    "import pandas as pd\n",
    "\n",
    "import ulmo\n",
    "from ulmo.util import convert_datetime"
   ]
  },
  {
   "cell_type": "markdown",
   "metadata": {},
   "source": [
    "## CUAHSI WaterOneFlow: ulmo, SOAP endpoint, and other general info"
   ]
  },
  {
   "cell_type": "code",
   "execution_count": 2,
   "metadata": {},
   "outputs": [
    {
     "name": "stdout",
     "output_type": "stream",
     "text": [
      "\n",
      "    ulmo.cuahsi.wof\n",
      "    ~~~~~~~~~~~~~~~\n",
      "\n",
      "    `CUAHSI WaterOneFlow`_ web services\n",
      "\n",
      "    .. _CUAHSI WaterOneFlow: http://his.cuahsi.org/wofws.html\n",
      "\n"
     ]
    }
   ],
   "source": [
    "print(ulmo.cuahsi.wof.__doc__)"
   ]
  },
  {
   "cell_type": "code",
   "execution_count": 3,
   "metadata": {},
   "outputs": [
    {
     "name": "stdout",
     "output_type": "stream",
     "text": [
      "['absolute_import', 'core', 'get_site_info', 'get_sites', 'get_values', 'get_variable_info']\n"
     ]
    }
   ],
   "source": [
    "print([obj for obj in dir(ulmo.cuahsi.wof) if not obj.startswith('__')])"
   ]
  },
  {
   "cell_type": "code",
   "execution_count": 4,
   "metadata": {
    "collapsed": true
   },
   "outputs": [],
   "source": [
    "# WaterML/WOF WSDL endpoints\n",
    "wsdlurl = 'http://52.40.105.124:8080/odm2timeseries/soap/cuahsi_1_0/.wsdl'  # WOF 1.0\n",
    "\n",
    "# 'network code'\n",
    "networkcd = 'odm2timeseries'"
   ]
  },
  {
   "cell_type": "markdown",
   "metadata": {},
   "source": [
    "## Get site information"
   ]
  },
  {
   "cell_type": "markdown",
   "metadata": {},
   "source": [
    "one of two sites in the LBR sample DB"
   ]
  },
  {
   "cell_type": "code",
   "execution_count": 5,
   "metadata": {
    "collapsed": true
   },
   "outputs": [],
   "source": [
    "sitecd = 'USU-LBR-Mendon'"
   ]
  },
  {
   "cell_type": "code",
   "execution_count": 6,
   "metadata": {
    "collapsed": true
   },
   "outputs": [],
   "source": [
    "siteinfo = ulmo.cuahsi.wof.get_site_info(wsdlurl, networkcd+':'+sitecd)"
   ]
  },
  {
   "cell_type": "code",
   "execution_count": 7,
   "metadata": {},
   "outputs": [
    {
     "data": {
      "text/plain": [
       "(dict,\n",
       " ['code', 'name', 'series', 'notes', 'network', 'location', 'timezone_info'])"
      ]
     },
     "execution_count": 7,
     "metadata": {},
     "output_type": "execute_result"
    }
   ],
   "source": [
    "type(siteinfo), siteinfo.keys()"
   ]
  },
  {
   "cell_type": "code",
   "execution_count": 8,
   "metadata": {},
   "outputs": [
    {
     "data": {
      "text/plain": [
       "('odm2timeseries',\n",
       " 'USU-LBR-Mendon',\n",
       " 'Little Bear River at Mendon Road near Mendon, Utah')"
      ]
     },
     "execution_count": 8,
     "metadata": {},
     "output_type": "execute_result"
    }
   ],
   "source": [
    "siteinfo['network'], siteinfo['code'], siteinfo['name']"
   ]
  },
  {
   "cell_type": "code",
   "execution_count": 9,
   "metadata": {},
   "outputs": [
    {
     "name": "stdout",
     "output_type": "stream",
     "text": [
      "{'latitude': '41.718473', 'srs': 'EPSG:CUAHSI:4269', 'longitude': '-111.946402'}\n"
     ]
    }
   ],
   "source": [
    "print(siteinfo['location'])"
   ]
  },
  {
   "cell_type": "code",
   "execution_count": 10,
   "metadata": {},
   "outputs": [
    {
     "data": {
      "text/plain": [
       "(dict,\n",
       " 18,\n",
       " ['odm2timeseries:USU44',\n",
       "  'odm2timeseries:USU8',\n",
       "  'odm2timeseries:USU9',\n",
       "  'odm2timeseries:USU6',\n",
       "  'odm2timeseries:USU7',\n",
       "  'odm2timeseries:USU4',\n",
       "  'odm2timeseries:USU5',\n",
       "  'odm2timeseries:USU3',\n",
       "  'odm2timeseries:USU10',\n",
       "  'odm2timeseries:USU47',\n",
       "  'odm2timeseries:USU13',\n",
       "  'odm2timeseries:USU48',\n",
       "  'odm2timeseries:USU36',\n",
       "  'odm2timeseries:USU37',\n",
       "  'odm2timeseries:USU34',\n",
       "  'odm2timeseries:USU35',\n",
       "  'odm2timeseries:USU32',\n",
       "  'odm2timeseries:USU33'])"
      ]
     },
     "execution_count": 10,
     "metadata": {},
     "output_type": "execute_result"
    }
   ],
   "source": [
    "type(siteinfo['series']), len(siteinfo['series']), siteinfo['series'].keys()"
   ]
  },
  {
   "cell_type": "code",
   "execution_count": 11,
   "metadata": {},
   "outputs": [
    {
     "data": {
      "text/plain": [
       "['{http://www.cuahsi.org/water_ml/1.0/}variable_time_interval',\n",
       " '{http://www.cuahsi.org/water_ml/1.0/}_source',\n",
       " '{http://www.cuahsi.org/water_ml/1.0/}_quality_control_level',\n",
       " 'variable',\n",
       " '{http://www.cuahsi.org/water_ml/1.0/}_method',\n",
       " '{http://www.cuahsi.org/water_ml/1.0/}value_count']"
      ]
     },
     "execution_count": 11,
     "metadata": {},
     "output_type": "execute_result"
    }
   ],
   "source": [
    "siteinfo['series']['odm2timeseries:USU33'].keys()"
   ]
  },
  {
   "cell_type": "code",
   "execution_count": 12,
   "metadata": {},
   "outputs": [
    {
     "data": {
      "text/plain": [
       "{'variable': {'code': 'USU33',\n",
       "  'data_type': 'Unknown',\n",
       "  'general_category': 'Unknown',\n",
       "  'id': '33',\n",
       "  'name': 'Oxygen, dissolved percent of saturation',\n",
       "  'no_data_value': '-9999.0000000000',\n",
       "  'sample_medium': 'Unknown',\n",
       "  'time': {},\n",
       "  'units': {'abbreviation': '%',\n",
       "   'code': '1',\n",
       "   'name': 'percent',\n",
       "   'type': 'Dimensionless'},\n",
       "  'value_type': 'Unknown',\n",
       "  'vocabulary': 'odm2timeseries'},\n",
       " '{http://www.cuahsi.org/water_ml/1.0/}_method': {'method_description': 'Dissolved oxygen measured using a Hydrolab MS5 Water Quality Multiprobe.',\n",
       "  'method_id': '19',\n",
       "  'method_link': 'http://www.hydrolab.com'},\n",
       " '{http://www.cuahsi.org/water_ml/1.0/}_quality_control_level': {'quality_control_level': '0',\n",
       "  'quality_control_level_id': '0'},\n",
       " '{http://www.cuahsi.org/water_ml/1.0/}_source': {},\n",
       " '{http://www.cuahsi.org/water_ml/1.0/}value_count': {'value_count': '1440'},\n",
       " '{http://www.cuahsi.org/water_ml/1.0/}variable_time_interval': {'begin_date_time': '2007-09-01T00:00:00',\n",
       "  'end_date_time': '2007-09-30T23:30:00',\n",
       "  'variable_time_interval_type': 'TimeIntervalType'}}"
      ]
     },
     "execution_count": 12,
     "metadata": {},
     "output_type": "execute_result"
    }
   ],
   "source": [
    "siteinfo['series']['odm2timeseries:USU33']"
   ]
  },
  {
   "cell_type": "markdown",
   "metadata": {},
   "source": [
    "## Get Values"
   ]
  },
  {
   "cell_type": "code",
   "execution_count": 13,
   "metadata": {
    "collapsed": true
   },
   "outputs": [],
   "source": [
    "def site_series_values_to_df(series_values, variable_name):\n",
    "    # Create a clean timeseries list of (dt, val) tuples\n",
    "    tsdt_tuplst = [\n",
    "        (convert_datetime(valdict['datetime']).replace(tzinfo=pytz.utc),\n",
    "         float(valdict['value'])) for valdict in series_values['values']\n",
    "    ]\n",
    "\n",
    "    dt, val = zip(*tsdt_tuplst)\n",
    "    ts_df = pd.DataFrame({'time': dt, variable_name: val})\n",
    "    ts_df.set_index('time', inplace=True)\n",
    "    ts_df.sort_index(ascending=True, inplace=True)\n",
    "    return ts_df"
   ]
  },
  {
   "cell_type": "code",
   "execution_count": 14,
   "metadata": {},
   "outputs": [
    {
     "name": "stdout",
     "output_type": "stream",
     "text": [
      "\n",
      "    Retrieves site values from a WaterOneFlow service using a GetValues request.\n",
      "\n",
      "    Parameters\n",
      "    ----------\n",
      "    wsdl_url : str\n",
      "        URL of a service's web service definition language (WSDL) description.\n",
      "        All WaterOneFlow services publish a WSDL description and this url is the\n",
      "        entry point to the service.\n",
      "    site_code : str\n",
      "        Site code of the site you'd like to get values for. Site codes MUST\n",
      "        contain the network and be of the form network:site_code, as is\n",
      "        required by WaterOneFlow.\n",
      "    variable_code : str\n",
      "        Variable code of the variable you'd like to get values for. Variable\n",
      "        codes MUST contain the network and be of the form\n",
      "        vocabulary:variable_code, as is required by WaterOneFlow.\n",
      "    start : ``None`` or datetime (see :ref:`dates-and-times`)\n",
      "        Start of a date range for a query. If both start and end parameters are\n",
      "        omitted, the entire time series available will be returned.\n",
      "    end : ``None`` or datetime (see :ref:`dates-and-times`)\n",
      "        End of a date range for a query. If both start and end parameters are\n",
      "        omitted, the entire time series available will be returned.\n",
      "    suds_cache: ``None`` or tuple\n",
      "        SOAP local cache duration for WSDL description and client object.\n",
      "        Pass a cache duration tuple like ('days', 3) to set a custom duration.\n",
      "        Duration may be in months, weeks, days, hours, or seconds.\n",
      "        If unspecified, the default duration (1 day) will be used.\n",
      "        Use ``None`` to turn off caching.\n",
      "\n",
      "    Returns\n",
      "    -------\n",
      "    site_values : dict\n",
      "        a python dict containing values\n",
      "    \n"
     ]
    }
   ],
   "source": [
    "print(\n",
    "    ulmo.cuahsi.wof.get_values.__doc__.replace('<', '').replace('>', '')\n",
    ")"
   ]
  },
  {
   "cell_type": "markdown",
   "metadata": {},
   "source": [
    "`'odm2timeseries:USU33'` is 'Oxygen, dissolved percent of saturation'"
   ]
  },
  {
   "cell_type": "code",
   "execution_count": 15,
   "metadata": {
    "collapsed": true
   },
   "outputs": [],
   "source": [
    "variablecd = 'USU33'\n",
    "\n",
    "site_values = ulmo.cuahsi.wof.get_values(wsdlurl, networkcd+':'+sitecd, networkcd+':'+variablecd)"
   ]
  },
  {
   "cell_type": "code",
   "execution_count": 16,
   "metadata": {},
   "outputs": [
    {
     "data": {
      "text/plain": [
       "['variable', 'quality_control_levels', 'values', 'site', 'methods']"
      ]
     },
     "execution_count": 16,
     "metadata": {},
     "output_type": "execute_result"
    }
   ],
   "source": [
    "site_values.keys()"
   ]
  },
  {
   "cell_type": "code",
   "execution_count": 17,
   "metadata": {},
   "outputs": [
    {
     "data": {
      "text/plain": [
       "{'code': 'USU33',\n",
       " 'data_type': 'Unknown',\n",
       " 'general_category': 'Unknown',\n",
       " 'id': '33',\n",
       " 'name': 'Oxygen, dissolved percent of saturation',\n",
       " 'no_data_value': '-9999.0000000000',\n",
       " 'sample_medium': 'Unknown',\n",
       " 'time': {'interval': '30',\n",
       "  'units': {'abbreviation': 'min', 'name': 'minute', 'type': 'Time'}},\n",
       " 'units': {'abbreviation': '%',\n",
       "  'code': '1',\n",
       "  'name': 'percent',\n",
       "  'type': 'Dimensionless'},\n",
       " 'value_type': 'Unknown',\n",
       " 'vocabulary': 'odm2timeseries'}"
      ]
     },
     "execution_count": 17,
     "metadata": {},
     "output_type": "execute_result"
    }
   ],
   "source": [
    "sitevariable = site_values['variable']\n",
    "sitevariable"
   ]
  },
  {
   "cell_type": "markdown",
   "metadata": {},
   "source": [
    "`site_values['values']` is a list of individual time series values (timestamp and data value)"
   ]
  },
  {
   "cell_type": "code",
   "execution_count": 18,
   "metadata": {},
   "outputs": [
    {
     "data": {
      "text/plain": [
       "(list,\n",
       " ['method_id', 'value', 'datetime', 'censor_code', 'quality_control_level'])"
      ]
     },
     "execution_count": 18,
     "metadata": {},
     "output_type": "execute_result"
    }
   ],
   "source": [
    "type(site_values['values']), site_values['values'][0].keys()"
   ]
  },
  {
   "cell_type": "markdown",
   "metadata": {},
   "source": [
    "Start and end timestamps (local time with time offset vs utc; iso8601 format)"
   ]
  },
  {
   "cell_type": "code",
   "execution_count": 19,
   "metadata": {},
   "outputs": [
    {
     "data": {
      "text/plain": [
       "('2007-09-01T00:00:00', '2007-09-30T23:30:00')"
      ]
     },
     "execution_count": 19,
     "metadata": {},
     "output_type": "execute_result"
    }
   ],
   "source": [
    "site_values['values'][0]['datetime'], site_values['values'][-1]['datetime']"
   ]
  },
  {
   "cell_type": "markdown",
   "metadata": {},
   "source": [
    "Set a nice, user-friendly variable name string."
   ]
  },
  {
   "cell_type": "code",
   "execution_count": 20,
   "metadata": {},
   "outputs": [
    {
     "data": {
      "text/plain": [
       "'Oxygen, dissolved percent of saturation (Unknown)'"
      ]
     },
     "execution_count": 20,
     "metadata": {},
     "output_type": "execute_result"
    }
   ],
   "source": [
    "variable_name = '%s (%s)' % (sitevariable['name'], sitevariable['value_type'])\n",
    "variable_name"
   ]
  },
  {
   "cell_type": "code",
   "execution_count": 21,
   "metadata": {},
   "outputs": [
    {
     "name": "stderr",
     "output_type": "stream",
     "text": [
      "/home/filipe/miniconda3/envs/BiG-CZ/lib/python2.7/site-packages/ipykernel/__main__.py:2: FutureWarning: to_datetime is deprecated. Use self.to_pydatetime()\n",
      "  from ipykernel import kernelapp as app\n"
     ]
    },
    {
     "data": {
      "text/plain": [
       "datetime.datetime(2007, 9, 30, 23, 30, tzinfo=<UTC>)"
      ]
     },
     "execution_count": 21,
     "metadata": {},
     "output_type": "execute_result"
    }
   ],
   "source": [
    "dtstr_last = site_values['values'][-1]['datetime']\n",
    "convert_datetime(dtstr_last).replace(tzinfo=pytz.utc)"
   ]
  },
  {
   "cell_type": "markdown",
   "metadata": {},
   "source": [
    "Hmm, this failed:\n",
    "```python\n",
    "convert_datetime(dtstr_last).astimezone(pytz.utc)\n",
    "ValueError: astimezone() cannot be applied to a naive datetime\n",
    "```"
   ]
  },
  {
   "cell_type": "code",
   "execution_count": 22,
   "metadata": {},
   "outputs": [
    {
     "name": "stderr",
     "output_type": "stream",
     "text": [
      "/home/filipe/miniconda3/envs/BiG-CZ/lib/python2.7/site-packages/ipykernel/__main__.py:5: FutureWarning: to_datetime is deprecated. Use self.to_pydatetime()\n"
     ]
    },
    {
     "data": {
      "text/html": [
       "<div>\n",
       "<style>\n",
       "    .dataframe thead tr:only-child th {\n",
       "        text-align: right;\n",
       "    }\n",
       "\n",
       "    .dataframe thead th {\n",
       "        text-align: left;\n",
       "    }\n",
       "\n",
       "    .dataframe tbody tr th {\n",
       "        vertical-align: top;\n",
       "    }\n",
       "</style>\n",
       "<table border=\"1\" class=\"dataframe\">\n",
       "  <thead>\n",
       "    <tr style=\"text-align: right;\">\n",
       "      <th></th>\n",
       "      <th>Oxygen, dissolved percent of saturation (Unknown)</th>\n",
       "    </tr>\n",
       "    <tr>\n",
       "      <th>time</th>\n",
       "      <th></th>\n",
       "    </tr>\n",
       "  </thead>\n",
       "  <tbody>\n",
       "    <tr>\n",
       "      <th>2007-09-30 21:30:00+00:00</th>\n",
       "      <td>94.99999</td>\n",
       "    </tr>\n",
       "    <tr>\n",
       "      <th>2007-09-30 22:00:00+00:00</th>\n",
       "      <td>94.18334</td>\n",
       "    </tr>\n",
       "    <tr>\n",
       "      <th>2007-09-30 22:30:00+00:00</th>\n",
       "      <td>93.28333</td>\n",
       "    </tr>\n",
       "    <tr>\n",
       "      <th>2007-09-30 23:00:00+00:00</th>\n",
       "      <td>92.41666</td>\n",
       "    </tr>\n",
       "    <tr>\n",
       "      <th>2007-09-30 23:30:00+00:00</th>\n",
       "      <td>91.58334</td>\n",
       "    </tr>\n",
       "  </tbody>\n",
       "</table>\n",
       "</div>"
      ],
      "text/plain": [
       "                           Oxygen, dissolved percent of saturation (Unknown)\n",
       "time                                                                        \n",
       "2007-09-30 21:30:00+00:00                                           94.99999\n",
       "2007-09-30 22:00:00+00:00                                           94.18334\n",
       "2007-09-30 22:30:00+00:00                                           93.28333\n",
       "2007-09-30 23:00:00+00:00                                           92.41666\n",
       "2007-09-30 23:30:00+00:00                                           91.58334"
      ]
     },
     "execution_count": 22,
     "metadata": {},
     "output_type": "execute_result"
    }
   ],
   "source": [
    "ts_df = site_series_values_to_df(site_values, variable_name)\n",
    "ts_df.tail()"
   ]
  },
  {
   "cell_type": "code",
   "execution_count": 23,
   "metadata": {},
   "outputs": [
    {
     "data": {
      "text/plain": [
       "(pandas.core.frame.DataFrame,\n",
       " Index([u'Oxygen, dissolved percent of saturation (Unknown)'], dtype='object'),\n",
       " datetime64[ns, UTC],\n",
       " Timestamp('2007-09-01 00:00:00+0000', tz='UTC'),\n",
       " Timestamp('2007-09-30 23:30:00+0000', tz='UTC'))"
      ]
     },
     "execution_count": 23,
     "metadata": {},
     "output_type": "execute_result"
    }
   ],
   "source": [
    "type(ts_df), ts_df.columns, ts_df.index.dtype, ts_df.index.min(), ts_df.index.max()"
   ]
  },
  {
   "cell_type": "code",
   "execution_count": 24,
   "metadata": {},
   "outputs": [
    {
     "data": {
      "image/png": "[encoded data removed]",
      "text/plain": [
       "<matplotlib.figure.Figure at 0x7f872739f6d0>"
      ]
     },
     "metadata": {},
     "output_type": "display_data"
    }
   ],
   "source": [
    "fig, ax = plt.subplots(figsize=(10, 4))\n",
    "varlabel = ts_df.columns[0]\n",
    "ts_df[varlabel].plot(style='-', ax=ax)\n",
    "l = ax.set_ylabel(varlabel + ', ' + sitevariable['units']['abbreviation'])"
   ]
  }
 ],
 "metadata": {
  "kernelspec": {
   "display_name": "Python [default]",
   "language": "python",
   "name": "python2"
  },
  "language_info": {
   "codemirror_mode": {
    "name": "ipython",
    "version": 2
   },
   "file_extension": ".py",
   "mimetype": "text/x-python",
   "name": "python",
   "nbconvert_exporter": "python",
   "pygments_lexer": "ipython2",
   "version": "2.7.13"
  }
 },
 "nbformat": 4,
 "nbformat_minor": 1
}
